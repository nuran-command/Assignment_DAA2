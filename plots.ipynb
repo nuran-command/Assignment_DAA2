{
 "cells": [
  {
   "cell_type": "code",
   "execution_count": 2,
   "id": "8a24ba0b",
   "metadata": {},
   "outputs": [
    {
     "name": "stdout",
     "output_type": "stream",
     "text": [
      "✅ Saved plots: time_ms.png, comparisons.png, swaps.png, array_accesses.png\n"
     ]
    }
   ],
   "source": [
    "import pandas as pd\n",
    "import matplotlib.pyplot as plt\n",
    "\n",
    "# Load results\n",
    "df = pd.read_csv(\"results.csv\")\n",
    "\n",
    "metrics = [\"TIME_MS\", \"COMPARISONS\", \"SWAPS\", \"ARRAY_ACCESSES\"]\n",
    "\n",
    "for metric in metrics:\n",
    "    plt.figure(figsize=(8, 5))\n",
    "    plt.bar(range(len(df)), df[metric], tick_label=df.index)\n",
    "    plt.xlabel(\"Trial\")\n",
    "    plt.ylabel(metric.replace(\"_\", \" \").title())\n",
    "    plt.title(f\"{metric.replace('_', ' ').title()} per Trial (N={df['N'].iloc[0]})\")\n",
    "    plt.savefig(f\"{metric.lower()}.png\", dpi=300)\n",
    "    plt.close()\n",
    "\n",
    "print(\"✅ Saved plots: time_ms.png, comparisons.png, swaps.png, array_accesses.png\")"
   ]
  },
  {
   "cell_type": "code",
   "execution_count": 2,
   "id": "a5f8e9e1",
   "metadata": {},
   "outputs": [
    {
     "name": "stdout",
     "output_type": "stream",
     "text": [
      "     ALGORITHM      N TIME_MS COMPARISONS   SWAPS ARRAY_ACCESSES  \\\n",
      "0  shell-knuth  10000      13      228886  157911         695194   \n",
      "1  shell-knuth  10000       2      234104  163138         710866   \n",
      "2  shell-knuth  10000       1      236326  165480         717772   \n",
      "3  shell-knuth  10000       3      236800  165742         718770   \n",
      "4  shell-knuth  10000       1      233218  162332         708368   \n",
      "\n",
      "  MEMORY_ALLOCATIONS RECURSION_DEPTH  \n",
      "0                  0               0  \n",
      "1                  0               0  \n",
      "2                  0               0  \n",
      "3                  0               0  \n",
      "4                  0               0  \n",
      "Index(['ALGORITHM', 'N', 'TIME_MS', 'COMPARISONS', 'SWAPS', 'ARRAY_ACCESSES',\n",
      "       'MEMORY_ALLOCATIONS', 'RECURSION_DEPTH'],\n",
      "      dtype='object')\n"
     ]
    }
   ],
   "source": [
    "import pandas as pd\n",
    "\n",
    "df = pd.read_csv(\"results.csv\")\n",
    "print(df.head())\n",
    "print(df.columns)\n"
   ]
  },
  {
   "cell_type": "code",
   "execution_count": null,
   "id": "7ce22a87",
   "metadata": {},
   "outputs": [],
   "source": []
  }
 ],
 "metadata": {
  "kernelspec": {
   "display_name": "Python 3 (ipykernel)",
   "language": "python",
   "name": "python3"
  },
  "language_info": {
   "codemirror_mode": {
    "name": "ipython",
    "version": 3
   },
   "file_extension": ".py",
   "mimetype": "text/x-python",
   "name": "python",
   "nbconvert_exporter": "python",
   "pygments_lexer": "ipython3",
   "version": "3.11.4"
  }
 },
 "nbformat": 4,
 "nbformat_minor": 5
}
